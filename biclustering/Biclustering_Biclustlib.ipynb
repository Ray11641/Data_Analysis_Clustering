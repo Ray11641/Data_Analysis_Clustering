{
 "cells": [
  {
   "cell_type": "code",
   "execution_count": null,
   "id": "fd44ae7d",
   "metadata": {},
   "outputs": [],
   "source": [
    "import os\n",
    "import sys"
   ]
  },
  {
   "cell_type": "code",
   "execution_count": null,
   "id": "6237de3c",
   "metadata": {},
   "outputs": [],
   "source": [
    "import numpy as np\n",
    "import pandas as pd"
   ]
  },
  {
   "cell_type": "code",
   "execution_count": null,
   "id": "890c1719",
   "metadata": {},
   "outputs": [],
   "source": [
    "from biclustlib.algorithms import ChengChurchAlgorithm"
   ]
  },
  {
   "cell_type": "code",
   "execution_count": null,
   "id": "17b2f8af",
   "metadata": {},
   "outputs": [],
   "source": [
    "import pygad"
   ]
  },
  {
   "cell_type": "code",
   "execution_count": null,
   "id": "a9f8259c",
   "metadata": {},
   "outputs": [],
   "source": [
    "from evaluation import MSR"
   ]
  },
  {
   "cell_type": "code",
   "execution_count": null,
   "id": "8955e68b",
   "metadata": {},
   "outputs": [],
   "source": []
  },
  {
   "cell_type": "markdown",
   "id": "26a5a578",
   "metadata": {},
   "source": [
    "### Load Data"
   ]
  },
  {
   "cell_type": "code",
   "execution_count": null,
   "id": "b9f7a4cc",
   "metadata": {},
   "outputs": [],
   "source": [
    "df = pd.read_csv(\"Data_File.csv\",index_col=0,header=0)"
   ]
  },
  {
   "cell_type": "code",
   "execution_count": null,
   "id": "d4211842",
   "metadata": {},
   "outputs": [],
   "source": [
    "df.head(5)"
   ]
  },
  {
   "cell_type": "code",
   "execution_count": null,
   "id": "29e0b57d",
   "metadata": {},
   "outputs": [],
   "source": [
    "data = df.to_numpy()"
   ]
  },
  {
   "cell_type": "code",
   "execution_count": null,
   "id": "fbb3d9a8",
   "metadata": {},
   "outputs": [],
   "source": [
    "MAX_MSR = MSR(data)"
   ]
  },
  {
   "cell_type": "code",
   "execution_count": null,
   "id": "ded3613c",
   "metadata": {},
   "outputs": [],
   "source": []
  },
  {
   "cell_type": "markdown",
   "id": "5c16ce2a",
   "metadata": {},
   "source": [
    "### Chen and Church!"
   ]
  },
  {
   "cell_type": "code",
   "execution_count": null,
   "id": "59f2faa9",
   "metadata": {},
   "outputs": [],
   "source": [
    "num_generations = 250\n",
    "num_parents_mating = 10\n",
    "\n",
    "sol_per_pop = 10\n",
    "\n",
    "num_genes = 3\n",
    "gene_type = [int,[float,4],[float,4]]\n",
    "gene_space = [{'low': 2, 'high': 20} ,{'low':0.01, 'high':MAX_MSR},{'low':1.0001, 'high':10.0}]\n",
    "\n",
    "parent_selection_type=\"sss\"\n",
    "\n",
    "keep_parents = 4\n",
    "\n",
    "crossover_type = \"uniform\"\n",
    "crossover_probability=0.2\n",
    "\n",
    "mutation_type=\"random\"\n",
    "mutation_probability = 0.2\n",
    "mutation_percent_genes = 10"
   ]
  },
  {
   "cell_type": "code",
   "execution_count": null,
   "id": "1312fd36",
   "metadata": {},
   "outputs": [],
   "source": [
    "def fitness_func_CCA(solution,solution_idx):\n",
    "    global data\n",
    "    nClusters = solution[0]\n",
    "    MSRT = solution[1]\n",
    "    MNDT = solution[2]\n",
    "    \n",
    "    # Create the CCA process\n",
    "    model_instance = ChengChurchAlgorithm(num_biclusters=nClusters,\n",
    "                                 msr_threshold=MSRT,\n",
    "                                 multiple_node_deletion_threshold=MNDT)\n",
    "    \n",
    "    # Obtain clustering results\n",
    "    model_biclusters = model_instance.run(data)\n",
    "    MSR_Instance = 0\n",
    "    for bic in model_biclusters.biclusters:\n",
    "        bic_data = data[bic.rows,:][:,bic.cols]\n",
    "        MSR_Instance += MSR(bic_data) \n",
    "    \n",
    "    #fitness = MSR_Instance\n",
    "    return MSR_Instance"
   ]
  },
  {
   "cell_type": "code",
   "execution_count": null,
   "id": "9b1197ea",
   "metadata": {},
   "outputs": [],
   "source": [
    "ga_instance_CCA = pygad.GA(num_generations = num_generations,\n",
    "                               num_parents_mating = num_parents_mating,\n",
    "                               fitness_func = fitness_func_CCA,\n",
    "                               sol_per_pop = sol_per_pop,\n",
    "                               num_genes = num_genes,\n",
    "                               gene_type = gene_type,\n",
    "                               gene_space = gene_space,\n",
    "                               parent_selection_type = parent_selection_type,\n",
    "                               keep_parents = keep_parents,\n",
    "                               crossover_type = crossover_type,\n",
    "                               crossover_probability = crossover_probability,\n",
    "                               mutation_type = mutation_type,\n",
    "                               mutation_probability = mutation_probability,\n",
    "                               mutation_percent_genes = mutation_percent_genes,\n",
    "                               parallel_processing = 4)"
   ]
  },
  {
   "cell_type": "code",
   "execution_count": null,
   "id": "9a98312c",
   "metadata": {},
   "outputs": [],
   "source": [
    "data_saver = []\n",
    "for itr in range(5):\n",
    "    ga_instance_CCA.run()\n",
    "\n",
    "    best_solution, best_solution_fitness, best_solution_idx = ga_instance_CCA.best_solution()\n",
    "    nClust = best_solution[0]\n",
    "    MSRT = best_solution[1]\n",
    "    MNDT = best_solution[2]\n",
    "    data_saver.append([nClust,\n",
    "                       MSRT,\n",
    "                       MNDT,\n",
    "                       best_solution_fitness])\n",
    "data_saver_columns = [\"number of clusters\", \"MSR Threshold\", \"NODE Deletion Threshold\", \"Best Cummulative MSR\"]\n",
    "df_data_saver = pd.DataFrame(data_saver,columns = data_saver_columns)\n",
    "df_data_saver.to_csv(f\"Output/CCA_1067_Common_Neuro_Output.csv\")"
   ]
  },
  {
   "cell_type": "code",
   "execution_count": null,
   "id": "e0d8d49a",
   "metadata": {},
   "outputs": [],
   "source": [
    "location = np.where(df_data_saver[\"Best Cummulative MSR\"]==np.min(df_data_saver[\"Best Cummulative MSR\"]))\n",
    "nClust = df_data_saver[\"number of clusters\"][(location[0].tolist())[0]]\n",
    "MSRT = df_data_saver[\"MSR Threshold\"][(location[0].tolist())[0]]\n",
    "MNDT = df_data_saver[\"NODE Deletion Threshold\"][(location[0].tolist())[0]]\n",
    "\n",
    "model_instance = ChengChurchAlgorithm(num_biclusters=nClust,\n",
    "                                 msr_threshold=MSRT,\n",
    "                                 multiple_node_deletion_threshold=MNDT)\n",
    "    \n",
    "# Obtain clustering results\n",
    "model_biclusters = model_instance.run(data)"
   ]
  },
  {
   "cell_type": "code",
   "execution_count": null,
   "id": "61c5e4c4",
   "metadata": {},
   "outputs": [],
   "source": [
    "import plotly.express as px\n",
    "bic_num = 1\n",
    "for bic in model_biclusters.biclusters:\n",
    "    bic_data = df.iloc[bic.rows,bic.cols]\n",
    "    fig = px.imshow(bic_data)\n",
    "    fig.write_image(f\"CCA_nClus_{nClust}_bic_num_{bic_num}.png\")\n",
    "    bic_num +=1"
   ]
  },
  {
   "cell_type": "code",
   "execution_count": null,
   "id": "1c21bdf4",
   "metadata": {},
   "outputs": [],
   "source": []
  },
  {
   "cell_type": "markdown",
   "id": "f41638dd",
   "metadata": {},
   "source": [
    "## Plaid_Bic"
   ]
  },
  {
   "cell_type": "code",
   "execution_count": null,
   "id": "4923520d",
   "metadata": {},
   "outputs": [],
   "source": [
    "from biclustlib.algorithms import Plaid"
   ]
  },
  {
   "cell_type": "code",
   "execution_count": null,
   "id": "b70e307d",
   "metadata": {},
   "outputs": [],
   "source": [
    "num_generations = 250\n",
    "num_parents_mating = 10\n",
    "\n",
    "sol_per_pop = 10\n",
    "\n",
    "num_genes = 3\n",
    "gene_type = [int,[float,4],[float,4]]\n",
    "gene_space = [{'low': 2, 'high': 20},\n",
    "              {'low':0.01, 'high': 0.99},\n",
    "              {'low':0.01, 'high':0.99}]\n",
    "\n",
    "parent_selection_type=\"sss\"\n",
    "\n",
    "keep_parents = 4\n",
    "\n",
    "crossover_type = \"uniform\"\n",
    "crossover_probability=0.2\n",
    "\n",
    "mutation_type=\"random\"\n",
    "mutation_probability = 0.2\n",
    "mutation_percent_genes = 10"
   ]
  },
  {
   "cell_type": "code",
   "execution_count": null,
   "id": "d0dae60a",
   "metadata": {},
   "outputs": [],
   "source": [
    "def fitness_func_Plaid(solution,solution_idx):\n",
    "    global data\n",
    "    nClus = solution[0]\n",
    "    rpth = solution[1]\n",
    "    cpth = solution[2]\n",
    "    \n",
    "    # Create the CCA process\n",
    "    model_instance = Plaid(num_biclusters=nClus,\n",
    "                           fit_background_layer=True,\n",
    "                           row_prunning_threshold=rpth,\n",
    "                           col_prunning_threshold=cpth,\n",
    "                           significance_tests=0,\n",
    "                           back_fitting_steps=1,\n",
    "                           initialization_iterations=6,\n",
    "                           iterations_per_layer=10)\n",
    "    \n",
    "    # Obtain clustering results\n",
    "    model_biclusters = model_instance.run(data)\n",
    "    MSR_Instance = 0\n",
    "    for bic in model_biclusters.biclusters:\n",
    "        bic_data = data[bic.rows,:][:,bic.cols]\n",
    "        MSR_Instance += MSR(bic_data) \n",
    "    \n",
    "    #fitness = MSR_Instance\n",
    "    return MSR_Instance"
   ]
  },
  {
   "cell_type": "code",
   "execution_count": null,
   "id": "00880af7",
   "metadata": {},
   "outputs": [],
   "source": [
    "ga_instance_Plaid = pygad.GA(num_generations = num_generations,\n",
    "                               num_parents_mating = num_parents_mating,\n",
    "                               fitness_func = fitness_func_Plaid,\n",
    "                               sol_per_pop = sol_per_pop,\n",
    "                               num_genes = num_genes,\n",
    "                               gene_type = gene_type,\n",
    "                               gene_space = gene_space,\n",
    "                               parent_selection_type = parent_selection_type,\n",
    "                               keep_parents = keep_parents,\n",
    "                               crossover_type = crossover_type,\n",
    "                               crossover_probability = crossover_probability,\n",
    "                               mutation_type = mutation_type,\n",
    "                               mutation_probability = mutation_probability,\n",
    "                               mutation_percent_genes = mutation_percent_genes,\n",
    "                               parallel_processing = 4)"
   ]
  },
  {
   "cell_type": "code",
   "execution_count": null,
   "id": "68c7460b",
   "metadata": {},
   "outputs": [],
   "source": [
    "data_saver = []\n",
    "for itr in range(5):\n",
    "    ga_instance_Plaid.run()\n",
    "\n",
    "    best_solution, best_solution_fitness, best_solution_idx = ga_instance_Plaid.best_solution()\n",
    "    nClust = best_solution[0]\n",
    "    rpth = best_solution[1]\n",
    "    cpth = best_solution[2]\n",
    "    data_saver.append([nClust,\n",
    "                       rpth,\n",
    "                       cpth,\n",
    "                       best_solution_fitness])\n",
    "    data_saver_columns = [\"number of Biclusters\",\n",
    "                          \"Row pruning threshold\",\n",
    "                          \"Col pruning threshold\",\n",
    "                          \"Best Cummulative MSR\"]\n",
    "    df_data_saver = pd.DataFrame(data_saver,columns = data_saver_columns)\n",
    "    df_data_saver.to_csv(f\"Output/Plaid_1067_Common_Neuro_Output.csv\")"
   ]
  },
  {
   "cell_type": "code",
   "execution_count": null,
   "id": "562898fd",
   "metadata": {},
   "outputs": [],
   "source": [
    "location = np.where(df_data_saver[\"Best Cummulative MSR\"]==np.min(df_data_saver[\"Best Cummulative MSR\"]))\n",
    "nClust = df_data_saver[\"number of Biclusters\"][(location[0].tolist())[0]]\n",
    "rpth = df_data_saver[\"Row pruning threshold\"][(location[0].tolist())[0]]\n",
    "cpth = df_data_saver[\"Col pruning threshold\"][(location[0].tolist())[0]]"
   ]
  },
  {
   "cell_type": "code",
   "execution_count": null,
   "id": "5b25aaf0",
   "metadata": {},
   "outputs": [],
   "source": [
    "model_instance = Plaid(num_biclusters=nClust,\n",
    "                           fit_background_layer=True,\n",
    "                           row_prunning_threshold=rpth,\n",
    "                           col_prunning_threshold=cpth,\n",
    "                           significance_tests=0,\n",
    "                           back_fitting_steps=1,\n",
    "                           initialization_iterations=6,\n",
    "                           iterations_per_layer=10)\n",
    "    \n",
    "    # Obtain clustering results\n",
    "model_biclusters = model_instance.run(data)"
   ]
  },
  {
   "cell_type": "code",
   "execution_count": null,
   "id": "ae8b6981",
   "metadata": {},
   "outputs": [],
   "source": [
    "import plotly.express as px\n",
    "bic_num = 1\n",
    "for bic in model_biclusters.biclusters:\n",
    "    bic_data = df.iloc[bic.rows,bic.cols]\n",
    "    fig = px.imshow(bic_data)\n",
    "    fig.write_image(f\"Plaid_nClus_{nClust}_bic_num_{bic_num}.png\")\n",
    "    bic_num +=1"
   ]
  },
  {
   "cell_type": "code",
   "execution_count": null,
   "id": "88f4b9fd",
   "metadata": {},
   "outputs": [],
   "source": []
  },
  {
   "cell_type": "markdown",
   "id": "350908b1",
   "metadata": {},
   "source": [
    "## Spectral Biclustering"
   ]
  },
  {
   "cell_type": "code",
   "execution_count": null,
   "id": "5ca5b6cf",
   "metadata": {},
   "outputs": [],
   "source": [
    "from sklearn.cluster import SpectralBiclustering"
   ]
  },
  {
   "cell_type": "code",
   "execution_count": null,
   "id": "bf4f81d8",
   "metadata": {},
   "outputs": [],
   "source": [
    "num_generations = 250\n",
    "num_parents_mating = 10\n",
    "\n",
    "sol_per_pop = 10\n",
    "\n",
    "num_genes = 2\n",
    "gene_type = [int,int]\n",
    "gene_space = [{'low': 2, 'high': 20},\n",
    "              {'low': 2, 'high': 20}]\n",
    "\n",
    "parent_selection_type=\"sss\"\n",
    "\n",
    "keep_parents = 4\n",
    "\n",
    "crossover_type = \"uniform\"\n",
    "crossover_probability=0.2\n",
    "\n",
    "mutation_type=\"random\"\n",
    "mutation_probability = 0.2\n",
    "mutation_percent_genes = 10"
   ]
  },
  {
   "cell_type": "code",
   "execution_count": null,
   "id": "0f6a5862",
   "metadata": {},
   "outputs": [],
   "source": [
    "def fitness_func_Spectral(solution,solution_idx):\n",
    "    global data\n",
    "    nclusRow = solution[0]\n",
    "    nclusCol = solution[1]\n",
    "    n_clusters = (nclusRow, nclusCol)\n",
    "    # Create the CCA process\n",
    "    model_instance = SpectralBiclustering(n_clusters=n_clusters,\n",
    "                                          method=\"log\",\n",
    "                                          random_state=0)\n",
    "    \n",
    "    # Obtain clustering results\n",
    "    model_instance.fit(data)\n",
    "    MSR_Instance_matrix = np.zeros((nclusRow,nclusCol))\n",
    "    for itr in range(nclusRow*nclusCol):\n",
    "        bic_data = data[model_instance.biclusters_[0][itr,:],:][:,model_instance.biclusters_[1][itr,:]]\n",
    "        MSR_bic = MSR(bic_data) \n",
    "        MSR_Instance_matrix[int(itr/nclusCol),itr%nclusCol] = MSR_bic\n",
    "    \n",
    "    return np.sum(MSR_Instance_matrix)"
   ]
  },
  {
   "cell_type": "code",
   "execution_count": null,
   "id": "3f7cae29",
   "metadata": {},
   "outputs": [],
   "source": [
    "ga_instance_Spectral = pygad.GA(num_generations = num_generations,\n",
    "                               num_parents_mating = num_parents_mating,\n",
    "                               fitness_func = fitness_func_Spectral,\n",
    "                               sol_per_pop = sol_per_pop,\n",
    "                               num_genes = num_genes,\n",
    "                               gene_type = gene_type,\n",
    "                               gene_space = gene_space,\n",
    "                               parent_selection_type = parent_selection_type,\n",
    "                               keep_parents = keep_parents,\n",
    "                               crossover_type = crossover_type,\n",
    "                               crossover_probability = crossover_probability,\n",
    "                               mutation_type = mutation_type,\n",
    "                               mutation_probability = mutation_probability,\n",
    "                               mutation_percent_genes = mutation_percent_genes,\n",
    "                               parallel_processing = 4)"
   ]
  },
  {
   "cell_type": "code",
   "execution_count": null,
   "id": "5336361d",
   "metadata": {},
   "outputs": [],
   "source": [
    "data_saver = []\n",
    "for itr in range(5):\n",
    "    ga_instance_Spectral.run()\n",
    "\n",
    "    best_solution, best_solution_fitness, best_solution_idx = ga_instance_Spectral.best_solution()\n",
    "    nclusRow = best_solution[0]\n",
    "    nclusCol = best_solution[1]\n",
    "    data_saver.append([nclusRow*nclusCol,\n",
    "                       nclusRow,\n",
    "                       nclusCol,\n",
    "                       best_solution_fitness])\n",
    "    data_saver_columns = [\"number of Biclusters\",\n",
    "                          \"Row Clusters\",\n",
    "                          \"Col Clusters\",\n",
    "                          \"Best Cummulative MSR\"]\n",
    "    df_data_saver = pd.DataFrame(data_saver,columns = data_saver_columns)\n",
    "    df_data_saver.to_csv(f\"Output/Spectral_1067_Common_Neuro_Output.csv.csv\")"
   ]
  },
  {
   "cell_type": "code",
   "execution_count": null,
   "id": "64fdcf69",
   "metadata": {},
   "outputs": [],
   "source": [
    "location = np.where(df_data_saver[\"Best Cummulative MSR\"]==np.min(df_data_saver[\"Best Cummulative MSR\"]))\n",
    "nclusRow = df_data_saver[\"Row Clusters\"][(location[0].tolist())[0]]\n",
    "nclusCol = df_data_saver[\"Col Clusters\"][(location[0].tolist())[0]]\n",
    "\n",
    "n_clusters = (nclusRow, nclusCol)\n",
    "# Create the CCA process\n",
    "model_instance = SpectralBiclustering(n_clusters=n_clusters,\n",
    "                                      method=\"log\",\n",
    "                                      random_state=0)\n",
    "\n",
    "# Obtain clustering results\n",
    "model_instance.fit(data)"
   ]
  },
  {
   "cell_type": "code",
   "execution_count": null,
   "id": "33a41782",
   "metadata": {},
   "outputs": [],
   "source": [
    "num = 1\n",
    "for itr in range(nclusRow*nclusCol):\n",
    "    bic_data = df.iloc[model_instance.biclusters_[0][itr,:],model_instance.biclusters_[1][itr,:]]\n",
    "    fig = px.imshow(bic_data)\n",
    "    fig.write_image(f\"Spectral_clust{num}.png\")\n",
    "    num +=1"
   ]
  },
  {
   "cell_type": "code",
   "execution_count": null,
   "id": "6c6278fe",
   "metadata": {},
   "outputs": [],
   "source": []
  }
 ],
 "metadata": {
  "kernelspec": {
   "display_name": "Python 3 (ipykernel)",
   "language": "python",
   "name": "python3"
  },
  "language_info": {
   "codemirror_mode": {
    "name": "ipython",
    "version": 3
   },
   "file_extension": ".py",
   "mimetype": "text/x-python",
   "name": "python",
   "nbconvert_exporter": "python",
   "pygments_lexer": "ipython3",
   "version": "3.10.9"
  }
 },
 "nbformat": 4,
 "nbformat_minor": 5
}
