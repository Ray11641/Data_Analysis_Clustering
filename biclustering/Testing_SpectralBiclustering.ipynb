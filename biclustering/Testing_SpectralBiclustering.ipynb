{
 "cells": [
  {
   "cell_type": "code",
   "execution_count": null,
   "id": "b8171982",
   "metadata": {},
   "outputs": [],
   "source": [
    "import numpy as np\n",
    "import pandas as pd\n",
    "import plotly.graph_objects as go"
   ]
  },
  {
   "cell_type": "code",
   "execution_count": null,
   "id": "3f62973d",
   "metadata": {},
   "outputs": [],
   "source": [
    "from os import listdir\n",
    "from os.path import isfile, join"
   ]
  },
  {
   "cell_type": "code",
   "execution_count": null,
   "id": "ad4d62dc",
   "metadata": {},
   "outputs": [],
   "source": [
    "from pathlib import Path"
   ]
  },
  {
   "cell_type": "code",
   "execution_count": null,
   "id": "a3552e8e",
   "metadata": {},
   "outputs": [],
   "source": [
    "from sklearn.cluster import SpectralBiclustering\n",
    "from sklearn import metrics"
   ]
  },
  {
   "cell_type": "code",
   "execution_count": null,
   "id": "390a0e49",
   "metadata": {},
   "outputs": [],
   "source": [
    "from wordcloud import WordCloud\n",
    "import matplotlib.pyplot as plt"
   ]
  },
  {
   "cell_type": "code",
   "execution_count": null,
   "id": "75591ca7",
   "metadata": {},
   "outputs": [],
   "source": [
    "from sklearn.manifold import TSNE"
   ]
  },
  {
   "cell_type": "code",
   "execution_count": null,
   "id": "2931e0c5",
   "metadata": {},
   "outputs": [],
   "source": [
    "InDir = \"~/Biclustering_Tests/Data/\""
   ]
  },
  {
   "cell_type": "code",
   "execution_count": null,
   "id": "76eff318",
   "metadata": {},
   "outputs": [],
   "source": [
    "outdir = \"~/Biclustering_Tests/Output/CSV/\""
   ]
  },
  {
   "cell_type": "markdown",
   "id": "c66e097e",
   "metadata": {},
   "source": [
    "## Data With Labels"
   ]
  },
  {
   "cell_type": "code",
   "execution_count": null,
   "id": "276f05fb",
   "metadata": {
    "scrolled": true
   },
   "outputs": [],
   "source": [
    "df = pd.read_csv(join(InDir,\"dementia_normalized.csv\"))\n",
    "#df = pd.read_csv(join(InDir,\"movement_normalised.csv\"))\n",
    "df.head()"
   ]
  },
  {
   "cell_type": "code",
   "execution_count": null,
   "id": "8b1ac712",
   "metadata": {},
   "outputs": [],
   "source": [
    "labels_1 = df[df.columns[0]]"
   ]
  },
  {
   "cell_type": "markdown",
   "id": "b4aa3ad5",
   "metadata": {},
   "source": [
    "### Reference cell\n",
    "\n",
    "metrics.adjusted_rand_score(labels_1, labels_2)\n",
    "metrics.mutual_info_score(labels_true, labels_pred)\n",
    "metrics.homogeneity_score(labels_true, labels_pred)\n",
    "metrics.completeness_score(labels_true, labels_pred)\n",
    "metrics.v_measure_score(labels_true, labels_pred)\n",
    "\n",
    "from sklearn.metrics import pairwise_distances\n",
    "metrics.silhouette_score(X, labels, metric='euclidean')\n",
    "    "
   ]
  },
  {
   "cell_type": "code",
   "execution_count": null,
   "id": "33f1b5ca",
   "metadata": {},
   "outputs": [],
   "source": [
    "data = df[df.columns[1:]].to_numpy()"
   ]
  },
  {
   "cell_type": "code",
   "execution_count": null,
   "id": "57476e22",
   "metadata": {},
   "outputs": [],
   "source": [
    "CVI_Scores = {}\n",
    "CVI_Scores[\"ARI\"] =[]\n",
    "CVI_Scores[\"Homogeneity\"] =[]\n",
    "CVI_Scores[\"MI\"] =[]\n",
    "CVI_Scores[\"Completeness\"] =[]\n",
    "CVI_Scores[\"VMeasure\"] =[]\n",
    "CVI_Scores[\"Silhouette\"] = [] \n",
    "CVI_Scores[\"N Clusters Row\"] = []\n",
    "CVI_Scores[\"N Clusters Col\"] = []"
   ]
  },
  {
   "cell_type": "code",
   "execution_count": null,
   "id": "4fe877a2",
   "metadata": {},
   "outputs": [],
   "source": [
    "for itr1 in range(2,11):\n",
    "    for itr2 in range(2,10):\n",
    "        model = SpectralBiclustering(n_clusters=(itr1, itr2),random_state=0)\n",
    "        model.fit(data)\n",
    "        labels_2 = model.row_labels_\n",
    "        CVI_Scores[\"ARI\"].append(metrics.adjusted_rand_score(labels_1, labels_2))\n",
    "        CVI_Scores[\"MI\"].append(metrics.mutual_info_score(labels_1, labels_2))\n",
    "        CVI_Scores[\"Homogeneity\"].append(metrics.homogeneity_score(labels_1, labels_2))\n",
    "        CVI_Scores[\"Completeness\"].append(metrics.completeness_score(labels_1, labels_2))\n",
    "        CVI_Scores[\"VMeasure\"].append(metrics.v_measure_score(labels_1, labels_2))\n",
    "        CVI_Scores[\"Silhouette\"].append(metrics.silhouette_score(data, labels_2, metric='euclidean')) \n",
    "        CVI_Scores[\"N Clusters Row\"].append(itr1)\n",
    "        CVI_Scores[\"N Clusters Col\"].append(itr2)"
   ]
  },
  {
   "cell_type": "code",
   "execution_count": null,
   "id": "bbf4c708",
   "metadata": {},
   "outputs": [],
   "source": [
    "df_CVI = pd.DataFrame(data= CVI_Scores)"
   ]
  },
  {
   "cell_type": "code",
   "execution_count": null,
   "id": "9c622ce5",
   "metadata": {},
   "outputs": [],
   "source": [
    "df_CVI"
   ]
  },
  {
   "cell_type": "code",
   "execution_count": null,
   "id": "364d3ffd",
   "metadata": {},
   "outputs": [],
   "source": [
    "len_Indices = len(CVI_Scores[\"ARI\"])"
   ]
  },
  {
   "cell_type": "code",
   "execution_count": null,
   "id": "a2b4b471",
   "metadata": {},
   "outputs": [],
   "source": [
    "import plotly.graph_objects as go\n",
    "fig = go.Figure()\n",
    "fig.add_trace(go.Scatter(x=df_CVI.index, y=df_CVI[\"ARI\"],\n",
    "                    mode='lines',\n",
    "                    name='ARI'))\n",
    "fig.add_trace(go.Scatter(x=df_CVI.index, y=df_CVI[\"MI\"],\n",
    "                    mode='lines',\n",
    "                    name='MI'))\n",
    "fig.add_trace(go.Scatter(x=df_CVI.index, y=df_CVI[\"Homogeneity\"],\n",
    "                    mode='lines',\n",
    "                    name='Homogeneity'))\n",
    "fig.add_trace(go.Scatter(x=df_CVI.index, y=df_CVI[\"Completeness\"],\n",
    "                    mode='lines',\n",
    "                    name='Completeness'))\n",
    "fig.add_trace(go.Scatter(x=df_CVI.index, y=df_CVI[\"VMeasure\"],\n",
    "                    mode='lines',\n",
    "                    name='V Measure'))\n",
    "fig.add_trace(go.Scatter(x=df_CVI.index, y=df_CVI[\"Silhouette\"],\n",
    "                    mode='lines',\n",
    "                    name='Silhouette'))\n",
    "fig.update_layout(title='CVI vs #Clusters for Dementia',\n",
    "                   xaxis_title='#index',\n",
    "                   yaxis_title='CVI Value')\n",
    "\n",
    "fig.update_layout(font = dict(\n",
    "                              family=\"Georgia\",\n",
    "                              size=18,\n",
    "                              color=\"#000000\"))\n",
    "\n",
    "\n",
    "fig.show()\n",
    "fig.write_image(join(outdir,\"SpecBi_CVI_Data.png\"))"
   ]
  },
  {
   "cell_type": "code",
   "execution_count": null,
   "id": "83422461",
   "metadata": {},
   "outputs": [],
   "source": [
    "indexMax = CVI_Scores[\"ARI\"].index(max(df_CVI[\"ARI\"]))\n",
    "nclustRow = CVI_Scores[\"N Clusters Row\"][indexMax]\n",
    "nclustCol = CVI_Scores[\"N Clusters Col\"][indexMax]"
   ]
  },
  {
   "cell_type": "code",
   "execution_count": null,
   "id": "59039635",
   "metadata": {},
   "outputs": [],
   "source": [
    "nclust"
   ]
  },
  {
   "cell_type": "code",
   "execution_count": null,
   "id": "f04c9478",
   "metadata": {},
   "outputs": [],
   "source": [
    "nclustRow = 8\n",
    "nclustCol = 8"
   ]
  },
  {
   "cell_type": "code",
   "execution_count": null,
   "id": "af8447a0",
   "metadata": {},
   "outputs": [],
   "source": [
    "nclustRow"
   ]
  },
  {
   "cell_type": "code",
   "execution_count": null,
   "id": "18086a5b",
   "metadata": {},
   "outputs": [],
   "source": [
    "model = SpectralBiclustering(n_clusters=(nclustRow, nclustCol),random_state=0)\n",
    "model.fit(data)\n",
    "row_labels = model.row_labels_\n",
    "col_labels = model.column_labels_\n",
    "unique_labels_row = np.unique(row_labels)\n",
    "unique_labels_col = np.unique(col_labels)"
   ]
  },
  {
   "cell_type": "code",
   "execution_count": null,
   "id": "cd9ae697",
   "metadata": {},
   "outputs": [],
   "source": [
    "col_sort_index = []\n",
    "new_col_labels = []\n",
    "for lbl in unique_labels_col:\n",
    "    locations = np.where(col_labels==lbl)[0]\n",
    "    for val in locations:\n",
    "        col_sort_index.append(val)\n",
    "        new_col_labels.append(f\"{df.columns[val+1]}#{lbl+1}\")\n",
    "col_shuffled_data = data[:,col_sort_index]"
   ]
  },
  {
   "cell_type": "code",
   "execution_count": null,
   "id": "164181f6",
   "metadata": {},
   "outputs": [],
   "source": [
    "with open('tseData.npy', 'rb') as f:\n",
    "    shuffled_data_embedded = np.load(f)"
   ]
  },
  {
   "cell_type": "code",
   "execution_count": null,
   "id": "c509020c",
   "metadata": {},
   "outputs": [],
   "source": [
    "shuffled_data_embedded.shape"
   ]
  },
  {
   "cell_type": "code",
   "execution_count": null,
   "id": "d7c23719",
   "metadata": {},
   "outputs": [],
   "source": [
    "import plotly.graph_objects as go\n",
    "fig = go.Figure()\n",
    "\n",
    "for clust in range(0,max(row_labels)+1):\n",
    "    fig.add_trace(go.Scatter(x=shuffled_data_embedded[np.where(row_labels==clust)[0],0],\n",
    "                             y=shuffled_data_embedded[np.where(row_labels==clust)[0],1],\n",
    "                             mode='markers',\n",
    "                             marker={'size':15},\n",
    "                             name=f'Cluster#{clust+1}'))\n",
    "\n",
    "#Page\n",
    "fig.update_layout({\n",
    "                    #'paper_bgcolor':'rgba(0,0,0,0)',\n",
    "                    'plot_bgcolor':'rgba(0,0,0,0)',\n",
    "                    })\n",
    "\n",
    "#Title\n",
    "fig.update_layout(title='tSNE Projection of Data With Spectral Biclustering',\n",
    "                   xaxis_title='Axis#1',\n",
    "                   yaxis_title='Axis#2')\n",
    "\n",
    "#Ticks\n",
    "fig.update_xaxes(ticks=\"outside\", tickwidth=1, tickcolor='black', ticklen=10)\n",
    "fig.update_yaxes(ticks=\"outside\", tickwidth=1, tickcolor='black', ticklen=10)\n",
    "\n",
    "#Line\n",
    "fig.update_xaxes(showline=True, linewidth=1, linecolor='black',  mirror=True)\n",
    "fig.update_yaxes(showline=True, linewidth=1, linecolor='black',  mirror=True)\n",
    "\n",
    "#Font\n",
    "fig.update_layout(font = dict(\n",
    "                              family=\"Georgia\",\n",
    "                              size=18,\n",
    "                              color=\"#000000\"))\n",
    "\n",
    "fig.update_layout(\n",
    "    autosize=False,\n",
    "    width=1000,\n",
    "    height=800)\n",
    "\n",
    "fig.show()"
   ]
  },
  {
   "cell_type": "code",
   "execution_count": null,
   "id": "44045b4e",
   "metadata": {},
   "outputs": [],
   "source": [
    "import umap\n",
    "reducer = umap.UMAP(n_neighbors=15,\n",
    "                   n_components=2\n",
    "                   )\n",
    "\n",
    "embedding = reducer.fit_transform(col_shuffled_data)\n",
    "embedding.shape"
   ]
  },
  {
   "cell_type": "code",
   "execution_count": null,
   "id": "66e3d506",
   "metadata": {},
   "outputs": [],
   "source": [
    "import plotly.graph_objects as go\n",
    "fig = go.Figure()\n",
    "\n",
    "for clust in range(0,max(row_labels)+1):\n",
    "    fig.add_trace(go.Scatter(x=embedding[np.where(row_labels==clust)[0],0],\n",
    "                             y=embedding[np.where(row_labels==clust)[0],1],\n",
    "                             mode='markers',\n",
    "                             marker={'size':15},\n",
    "                             name=f'Cluster#{clust+1}'))\n",
    "\n",
    "\"\"\"\n",
    "fig.update_layout({\n",
    "                    #'paper_bgcolor':'rgba(0,0,0,0)',\n",
    "                    'plot_bgcolor':'rgba(0,0,0,0)',\n",
    "                    })\n",
    "\"\"\"\n",
    "\n",
    "fig.update_layout(title='UMAP Projection of Data with Spectral Biclustering',\n",
    "                   xaxis_title='Axis#1',\n",
    "                   yaxis_title='Axis#2')\n",
    "\n",
    "fig.update_layout(font = dict(\n",
    "                              family=\"Georgia\",\n",
    "                              size=18,\n",
    "                              color=\"#000000\"))\n",
    "\n",
    "fig.update_layout(\n",
    "    autosize=False,\n",
    "    width=1000,\n",
    "    height=800)\n",
    "\n",
    "fig.show()"
   ]
  },
  {
   "cell_type": "code",
   "execution_count": null,
   "id": "764e41c3",
   "metadata": {},
   "outputs": [],
   "source": []
  },
  {
   "cell_type": "code",
   "execution_count": null,
   "id": "35ba8010",
   "metadata": {},
   "outputs": [],
   "source": []
  },
  {
   "cell_type": "code",
   "execution_count": null,
   "id": "dcaba6cf",
   "metadata": {},
   "outputs": [],
   "source": []
  },
  {
   "cell_type": "markdown",
   "id": "7c6c9d33",
   "metadata": {},
   "source": [
    "### Data without labels"
   ]
  },
  {
   "cell_type": "code",
   "execution_count": null,
   "id": "292d695b",
   "metadata": {},
   "outputs": [],
   "source": [
    "df = pd.read_csv(join(InDir,\"Data_Without_Labels.csv\"))\n",
    "df.head()"
   ]
  },
  {
   "cell_type": "code",
   "execution_count": null,
   "id": "802a0ed3",
   "metadata": {
    "scrolled": true
   },
   "outputs": [],
   "source": [
    "df[df.columns[1:]]"
   ]
  },
  {
   "cell_type": "code",
   "execution_count": null,
   "id": "ec81bfa2",
   "metadata": {},
   "outputs": [],
   "source": [
    "data"
   ]
  },
  {
   "cell_type": "code",
   "execution_count": null,
   "id": "a1e7cedd",
   "metadata": {},
   "outputs": [],
   "source": [
    "shift=1\n",
    "data = df[df.columns[shift:]].to_numpy()\n",
    "data_max = np.max(data,axis=0)\n",
    "data_min = np.min(data,axis=0)\n",
    "data = (data- data_min)/(data_max - data_min)"
   ]
  },
  {
   "cell_type": "code",
   "execution_count": null,
   "id": "405ee521",
   "metadata": {},
   "outputs": [],
   "source": [
    "CVI_Scores = {}\n",
    "CVI_Scores[\"CHI\"] =[]\n",
    "CVI_Scores[\"DBI\"] = []\n",
    "CVI_Scores[\"Silhouette\"] = [] \n",
    "CVI_Scores[\"N Clusters Row\"] = []\n",
    "CVI_Scores[\"N Clusters Col\"] = []"
   ]
  },
  {
   "cell_type": "code",
   "execution_count": null,
   "id": "ddc4f154",
   "metadata": {},
   "outputs": [],
   "source": [
    "for itr1 in range(2,11):\n",
    "    for itr2 in range(2,11):\n",
    "        model = SpectralBiclustering(n_clusters=(itr1,itr2),random_state=0)\n",
    "        model.fit(data)\n",
    "        labels_2 = model.row_labels_\n",
    "        CVI_Scores[\"CHI\"].append(metrics.calinski_harabasz_score(data, labels_2))\n",
    "        CVI_Scores[\"DBI\"].append(metrics.davies_bouldin_score(data, labels_2))\n",
    "        CVI_Scores[\"Silhouette\"].append(metrics.silhouette_score(data, labels_2, metric='euclidean')) \n",
    "        CVI_Scores[\"N Clusters Row\"].append(itr1)\n",
    "        CVI_Scores[\"N Clusters Col\"].append(itr2)"
   ]
  },
  {
   "cell_type": "code",
   "execution_count": null,
   "id": "852c6f31",
   "metadata": {},
   "outputs": [],
   "source": [
    "df_CVI = pd.DataFrame(data= CVI_Scores)\n",
    "df_CVI"
   ]
  },
  {
   "cell_type": "code",
   "execution_count": null,
   "id": "b4acdf00",
   "metadata": {},
   "outputs": [],
   "source": [
    "from plotly.subplots import make_subplots\n",
    "import plotly.graph_objects as go\n",
    "fig = go.Figure()\n",
    "\n",
    "fig = make_subplots(rows=2, cols=1)\n",
    "\n",
    "fig.add_trace(go.Scatter(x=df_CVI.index, y=df_CVI[\"CHI\"],\n",
    "                    mode='lines',\n",
    "                    name='CHI'), row=1, col=1)\n",
    "fig.add_trace(go.Scatter(x=df_CVI.index, y=df_CVI[\"DBI\"],\n",
    "                    mode='lines',\n",
    "                    name='DBI'), row=1, col=1)\n",
    "fig.add_trace(go.Scatter(x=df_CVI.index, y=df_CVI[\"Silhouette\"],\n",
    "                    mode='lines',\n",
    "                    name='Silhouette'), row=2, col=1)\n",
    "fig.update_layout(title='CVI vs #Clusters for Data Without Labels',\n",
    "                   yaxis_title='CVI Value')\n",
    "\n",
    "fig.update_xaxes(title_text='#index', row=2, col=1)\n",
    "fig.update_yaxes(title_text='CVI Value', row=2, col=1)\n",
    "\n",
    "fig.show()\n",
    "fig.write_image(join(outdir,\"SpecBic_CVI_Data_Without_Labels.png\"))"
   ]
  },
  {
   "cell_type": "code",
   "execution_count": null,
   "id": "9e820da6",
   "metadata": {},
   "outputs": [],
   "source": []
  }
 ],
 "metadata": {
  "kernelspec": {
   "display_name": "Python 3 (ipykernel)",
   "language": "python",
   "name": "python3"
  },
  "language_info": {
   "codemirror_mode": {
    "name": "ipython",
    "version": 3
   },
   "file_extension": ".py",
   "mimetype": "text/x-python",
   "name": "python",
   "nbconvert_exporter": "python",
   "pygments_lexer": "ipython3",
   "version": "3.10.9"
  }
 },
 "nbformat": 4,
 "nbformat_minor": 5
}
