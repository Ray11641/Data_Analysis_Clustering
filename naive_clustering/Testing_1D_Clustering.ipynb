{
 "cells": [
  {
   "cell_type": "markdown",
   "id": "824fdb6a",
   "metadata": {},
   "source": [
    "## Imports"
   ]
  },
  {
   "cell_type": "code",
   "execution_count": null,
   "id": "1b591bd4",
   "metadata": {},
   "outputs": [],
   "source": [
    "#directory\n",
    "import os"
   ]
  },
  {
   "cell_type": "code",
   "execution_count": null,
   "id": "6c377f76",
   "metadata": {},
   "outputs": [],
   "source": [
    "#data\n",
    "import numpy as np\n",
    "import pandas as pd"
   ]
  },
  {
   "cell_type": "code",
   "execution_count": null,
   "id": "2c5d4959",
   "metadata": {},
   "outputs": [],
   "source": [
    "#plotting\n",
    "import plotly.graph_objects as go\n",
    "from plotly.subplots import make_subplots"
   ]
  },
  {
   "cell_type": "code",
   "execution_count": null,
   "id": "6f7b5c28",
   "metadata": {},
   "outputs": [],
   "source": [
    "#Clustering\n",
    "from sklearn import metrics\n",
    "from sklearn.metrics import pairwise_distances"
   ]
  },
  {
   "cell_type": "code",
   "execution_count": null,
   "id": "1ffcc973",
   "metadata": {},
   "outputs": [],
   "source": [
    "from sklearn.cluster import KMeans\n",
    "from sklearn.cluster import AffinityPropagation\n",
    "from sklearn.cluster import MeanShift\n",
    "from sklearn.cluster import SpectralClustering\n",
    "from sklearn.cluster import estimate_bandwidth"
   ]
  },
  {
   "cell_type": "markdown",
   "id": "39715128",
   "metadata": {},
   "source": [
    "## Load Files"
   ]
  },
  {
   "cell_type": "code",
   "execution_count": null,
   "id": "abb0a1d9",
   "metadata": {},
   "outputs": [],
   "source": [
    "DATA_DIR = os.getcwd() + \"/Data/\"\n",
    "DATA_FILE = \"Data_File.csv\""
   ]
  },
  {
   "cell_type": "code",
   "execution_count": null,
   "id": "836724e5",
   "metadata": {},
   "outputs": [],
   "source": [
    "df = pd.read_csv(DATA_DIR+ DATA_FILE,header=0)"
   ]
  },
  {
   "cell_type": "code",
   "execution_count": null,
   "id": "d5cbb472",
   "metadata": {},
   "outputs": [],
   "source": [
    "columns = df.columns.to_numpy()"
   ]
  },
  {
   "cell_type": "code",
   "execution_count": null,
   "id": "f22a318d",
   "metadata": {},
   "outputs": [],
   "source": [
    "needed_columns = columns[5:columns.shape[0]-1]"
   ]
  },
  {
   "cell_type": "code",
   "execution_count": null,
   "id": "835ba1b3",
   "metadata": {},
   "outputs": [],
   "source": [
    "data = df[needed_columns]"
   ]
  },
  {
   "cell_type": "code",
   "execution_count": null,
   "id": "b6cc5312",
   "metadata": {},
   "outputs": [],
   "source": [
    "rows = data.index.to_numpy().astype(str)\n",
    "columns = data.columns.to_numpy()"
   ]
  },
  {
   "cell_type": "code",
   "execution_count": null,
   "id": "d396a431",
   "metadata": {},
   "outputs": [],
   "source": [
    "### display data\n",
    "fig= go.Figure(data=go.Heatmap( z=data.to_numpy(), x = columns, y= rows) )\n",
    "\n",
    "#fig = px.imshow(data)\n",
    "fig.update_layout(\n",
    "    width = 4880, height = 2400,\n",
    "    autosize = False )"
   ]
  },
  {
   "cell_type": "code",
   "execution_count": null,
   "id": "90bb790e",
   "metadata": {},
   "outputs": [],
   "source": []
  },
  {
   "cell_type": "markdown",
   "id": "dfe18105",
   "metadata": {},
   "source": [
    "## Kmeans clustering"
   ]
  },
  {
   "cell_type": "code",
   "execution_count": null,
   "id": "ef43f09b",
   "metadata": {},
   "outputs": [],
   "source": [
    "silhouette_scores = []\n",
    "x_itr = []"
   ]
  },
  {
   "cell_type": "code",
   "execution_count": null,
   "id": "bf225faa",
   "metadata": {},
   "outputs": [],
   "source": [
    "for itr in range(2,60):\n",
    "    kmeans_model = KMeans(n_clusters=itr, random_state=1).fit(data)\n",
    "    labels = kmeans_model.labels_\n",
    "    score = metrics.silhouette_score(data, labels, metric='euclidean')\n",
    "    silhouette_scores.append(score)\n",
    "    x_itr.append(itr)"
   ]
  },
  {
   "cell_type": "code",
   "execution_count": null,
   "id": "c7ff2273",
   "metadata": {},
   "outputs": [],
   "source": [
    "fig = go.Figure(data=go.Scatter(x=x_itr, y=silhouette_scores))\n",
    "fig.update_layout(\n",
    "                title=\"Silhouette Scores for K-Means\",\n",
    "                yaxis_title= \"Score\",\n",
    "                xaxis_title= \"Number of clusters\"\n",
    "                )\n",
    "fig.update_layout(\n",
    "                width = 1000, height = 500,\n",
    "                autosize = False\n",
    "                )\n",
    "fig.write_image(f\"images/Silhouette_scores_K_Means.png\")\n",
    "fig.show()"
   ]
  },
  {
   "cell_type": "code",
   "execution_count": null,
   "id": "1ac65496",
   "metadata": {},
   "outputs": [],
   "source": [
    "## AffinityPropagation clustering"
   ]
  },
  {
   "cell_type": "code",
   "execution_count": null,
   "id": "3e1cf24d",
   "metadata": {},
   "outputs": [],
   "source": [
    "silhouette_scores = []\n",
    "x_itr = []\n",
    "n_clusters = []"
   ]
  },
  {
   "cell_type": "code",
   "execution_count": null,
   "id": "9a97ae22",
   "metadata": {},
   "outputs": [],
   "source": [
    "for itr in range(50):\n",
    "    damping = 0.5 + (0.5*itr/50)\n",
    "    AP_model = AffinityPropagation(damping=damping, random_state=1).fit(data)\n",
    "    labels = AP_model.labels_\n",
    "    n_clusters.append(np.max(labels))\n",
    "    score = metrics.silhouette_score(data, labels, metric='euclidean')\n",
    "    silhouette_scores.append(score)\n",
    "    x_itr.append(damping)"
   ]
  },
  {
   "cell_type": "code",
   "execution_count": null,
   "id": "c849c597",
   "metadata": {},
   "outputs": [],
   "source": [
    "fig = make_subplots(rows=2, cols=1)\n",
    "\n",
    "fig.add_trace(go.Scatter(x=x_itr, y=silhouette_scores),\n",
    "             row=1,col=1)\n",
    "\n",
    "\n",
    "fig.add_trace(go.Scatter(x=x_itr, y=n_clusters),\n",
    "             row=2,col=1)\n",
    "\n",
    "fig.update_yaxes(title_text=\"Score\", row=1, col=1)\n",
    "\n",
    "fig.update_yaxes(title_text=\"#clusters\", row=2, col=1)\n",
    "\n",
    "fig.update_xaxes(title_text=\"Damping\", row=2, col=1)\n",
    "fig.update_layout(\n",
    "                title=\"Silhouette Scores for AffinityPropagation\"\n",
    "                )\n",
    "\n",
    "fig.update_layout(\n",
    "                width = 1000, height = 750,\n",
    "                autosize = False\n",
    "                )\n",
    "fig.write_image(f\"images/Silhouette_scores_AffinityPropagation.png\")\n",
    "fig.show()\n"
   ]
  },
  {
   "cell_type": "code",
   "execution_count": null,
   "id": "74317484",
   "metadata": {},
   "outputs": [],
   "source": []
  },
  {
   "cell_type": "markdown",
   "id": "97c7489e",
   "metadata": {},
   "source": [
    "## Mean Shift"
   ]
  },
  {
   "cell_type": "code",
   "execution_count": null,
   "id": "24e9f5aa",
   "metadata": {},
   "outputs": [],
   "source": [
    "silhouette_scores = []\n",
    "x_itr = []\n",
    "quantile_itr = []\n",
    "bandwidth_itr = []\n",
    "n_clusters = []"
   ]
  },
  {
   "cell_type": "code",
   "execution_count": null,
   "id": "5e0cd93c",
   "metadata": {},
   "outputs": [],
   "source": [
    "for itr in range(45):\n",
    "    quantile = 0.05 + (1*itr/50)\n",
    "    bandwidth = estimate_bandwidth(data,quantile=quantile)\n",
    "    MS_model = MeanShift(bandwidth = bandwidth).fit(data)\n",
    "    labels = MS_model.labels_\n",
    "    n_clusters.append(np.max(labels))\n",
    "    if not np.max(labels)==0:\n",
    "        score = metrics.silhouette_score(data, labels, metric='euclidean')\n",
    "        silhouette_scores.append(score)\n",
    "        quantile_itr.append(quantile)\n",
    "        bandwidth_itr.append(bandwidth)\n",
    "        x_itr.append(itr)\n",
    "    else:\n",
    "        silhouette_scores.append(0)\n",
    "        quantile_itr.append(quantile)\n",
    "        bandwidth_itr.append(bandwidth)\n",
    "        x_itr.append(itr)"
   ]
  },
  {
   "cell_type": "code",
   "execution_count": null,
   "id": "2759c20e",
   "metadata": {},
   "outputs": [],
   "source": [
    "fig = make_subplots(rows=3, cols=1)\n",
    "\n",
    "fig.add_trace(go.Scatter(x=quantile_itr, y=silhouette_scores),\n",
    "             row=1,col=1)\n",
    "\n",
    "\n",
    "fig.add_trace(go.Scatter(x=quantile_itr, y=bandwidth_itr),\n",
    "             row=2,col=1)\n",
    "\n",
    "fig.add_trace(go.Scatter(x=quantile_itr, y=n_clusters),\n",
    "             row=3,col=1)\n",
    "\n",
    "fig.update_yaxes(title_text=\"Score\", row=1, col=1)\n",
    "\n",
    "fig.update_yaxes(title_text=\"Bandwidth estimate\", row=2, col=1)\n",
    "\n",
    "fig.update_yaxes(title_text=\"#clusters\", row=3, col=1)\n",
    "\n",
    "fig.update_xaxes(title_text=\"Quantile for bandwidth estimation\", row=3, col=1)\n",
    "\n",
    "fig.update_layout(\n",
    "                title=\"Silhouette Scores for MeanShift\"\n",
    "                )\n",
    "fig.update_layout(\n",
    "                width = 1000, height = 1000,\n",
    "                autosize = False\n",
    "                )\n",
    "fig.write_image(f\"images/Silhouette_scores_MeanShift.png\")\n",
    "fig.show()"
   ]
  },
  {
   "cell_type": "code",
   "execution_count": null,
   "id": "d524e42e",
   "metadata": {},
   "outputs": [],
   "source": []
  },
  {
   "cell_type": "markdown",
   "id": "576524b2",
   "metadata": {},
   "source": [
    "## Spectral clustering"
   ]
  },
  {
   "cell_type": "code",
   "execution_count": null,
   "id": "9a1d4707",
   "metadata": {},
   "outputs": [],
   "source": [
    "silhouette_scores = []\n",
    "x_itr = []"
   ]
  },
  {
   "cell_type": "code",
   "execution_count": null,
   "id": "7935cf5f",
   "metadata": {},
   "outputs": [],
   "source": [
    "for itr in range(2,60):\n",
    "    Spectral_model = SpectralClustering(n_clusters=itr, random_state=1).fit(data)\n",
    "    labels = Spectral_model.labels_\n",
    "    score = metrics.silhouette_score(data, labels, metric='euclidean')\n",
    "    silhouette_scores.append(score)\n",
    "    x_itr.append(itr)"
   ]
  },
  {
   "cell_type": "code",
   "execution_count": null,
   "id": "88e32596",
   "metadata": {},
   "outputs": [],
   "source": [
    "fig = go.Figure(data=go.Scatter(x=x_itr, y=silhouette_scores))\n",
    "fig.update_layout(\n",
    "                title=\"Silhouette Scores for Spectral Clustering\",\n",
    "                yaxis_title= \"Score\",\n",
    "                xaxis_title= \"Number of clusters\"\n",
    "                )\n",
    "fig.update_layout(\n",
    "                width = 1000, height = 500,\n",
    "                autosize = False\n",
    "                )\n",
    "fig.write_image(f\"images/Silhouette_scores_Spectral.png\")\n",
    "fig.show()"
   ]
  },
  {
   "cell_type": "code",
   "execution_count": null,
   "id": "ee473a0f",
   "metadata": {},
   "outputs": [],
   "source": []
  },
  {
   "cell_type": "markdown",
   "id": "c166b13a",
   "metadata": {},
   "source": [
    "## Final test"
   ]
  },
  {
   "cell_type": "code",
   "execution_count": null,
   "id": "e82b01a4",
   "metadata": {},
   "outputs": [],
   "source": [
    "Spectral_model = SpectralClustering(n_clusters=2, random_state=1).fit(data)\n",
    "labels = Spectral_model.labels_"
   ]
  },
  {
   "cell_type": "code",
   "execution_count": null,
   "id": "aa84f70c",
   "metadata": {},
   "outputs": [],
   "source": [
    "fit_data = data.to_numpy()[np.argsort(labels)]\n",
    "fig= go.Figure(data=go.Heatmap( z = fit_data,\n",
    "                                        x = columns,\n",
    "                                        y = rows[np.argsort(labels)])) \n",
    "fig.update_layout(width = 4880, height = 2400,\n",
    "                  autosize = False )\n",
    "\n",
    "fig.write_image(f\"images/Silhouette_spectral_clustering.png\")"
   ]
  },
  {
   "cell_type": "code",
   "execution_count": null,
   "id": "41a89b60",
   "metadata": {},
   "outputs": [],
   "source": [
    "labels"
   ]
  },
  {
   "cell_type": "code",
   "execution_count": null,
   "id": "8a82e032",
   "metadata": {},
   "outputs": [],
   "source": [
    "rows[np.argsort(labels)]"
   ]
  },
  {
   "cell_type": "code",
   "execution_count": null,
   "id": "64efc235",
   "metadata": {},
   "outputs": [],
   "source": []
  }
 ],
 "metadata": {
  "kernelspec": {
   "display_name": "Python 3 (ipykernel)",
   "language": "python",
   "name": "python3"
  },
  "language_info": {
   "codemirror_mode": {
    "name": "ipython",
    "version": 3
   },
   "file_extension": ".py",
   "mimetype": "text/x-python",
   "name": "python",
   "nbconvert_exporter": "python",
   "pygments_lexer": "ipython3",
   "version": "3.10.9"
  }
 },
 "nbformat": 4,
 "nbformat_minor": 5
}
