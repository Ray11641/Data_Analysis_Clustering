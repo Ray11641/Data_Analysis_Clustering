{
 "cells": [
  {
   "cell_type": "markdown",
   "id": "9dd8dbad",
   "metadata": {},
   "source": [
    "## Installations"
   ]
  },
  {
   "cell_type": "code",
   "execution_count": null,
   "id": "7f38c998",
   "metadata": {},
   "outputs": [],
   "source": [
    "!pip install shap"
   ]
  },
  {
   "cell_type": "code",
   "execution_count": null,
   "id": "6b11545c",
   "metadata": {},
   "outputs": [],
   "source": [
    "!pip install xgboost"
   ]
  },
  {
   "cell_type": "code",
   "execution_count": null,
   "id": "3fa3f76f",
   "metadata": {},
   "outputs": [],
   "source": []
  },
  {
   "cell_type": "markdown",
   "id": "efeb9ab9",
   "metadata": {},
   "source": [
    "## Imports"
   ]
  },
  {
   "cell_type": "code",
   "execution_count": null,
   "id": "0548f7df",
   "metadata": {},
   "outputs": [],
   "source": [
    "import os\n",
    "\n",
    "import numpy as np\n",
    "from matplotlib import pyplot as plt\n",
    "import pandas as pd\n",
    "\n",
    "from sklearn.ensemble import RandomForestClassifier\n",
    "from sklearn.ensemble import HistGradientBoostingClassifier\n",
    "\n",
    "import shap\n",
    "import xgboost\n",
    "from shap import TreeExplainer, Explanation\n",
    "from shap.plots import waterfall"
   ]
  },
  {
   "cell_type": "code",
   "execution_count": null,
   "id": "c30ee1ba",
   "metadata": {},
   "outputs": [],
   "source": []
  },
  {
   "cell_type": "markdown",
   "id": "44149ff1",
   "metadata": {},
   "source": [
    "## Data"
   ]
  },
  {
   "cell_type": "code",
   "execution_count": null,
   "id": "5a35d30d",
   "metadata": {},
   "outputs": [],
   "source": [
    "df = pd.read_csv('Data_File.csv')"
   ]
  },
  {
   "cell_type": "code",
   "execution_count": null,
   "id": "f9d85531",
   "metadata": {},
   "outputs": [],
   "source": [
    "column_headings = df.columns.tolist()\n",
    "column_headings = column_headings[1:] # Assuming 0 is labels"
   ]
  },
  {
   "cell_type": "code",
   "execution_count": null,
   "id": "eb108afc",
   "metadata": {},
   "outputs": [],
   "source": [
    "X = df.iloc[:, 1:].values\n",
    "y = df.iloc[:, 0].values"
   ]
  },
  {
   "cell_type": "code",
   "execution_count": null,
   "id": "2fd2ea14",
   "metadata": {},
   "outputs": [],
   "source": []
  },
  {
   "cell_type": "markdown",
   "id": "c490bd4c",
   "metadata": {},
   "source": [
    "## SHAP"
   ]
  },
  {
   "cell_type": "code",
   "execution_count": null,
   "id": "a9309b54",
   "metadata": {},
   "outputs": [],
   "source": [
    "clf = HistGradientBoostingClassifier().fit(X, y)\n",
    "print(clf.score(X, y))"
   ]
  },
  {
   "cell_type": "code",
   "execution_count": null,
   "id": "3e565e4d",
   "metadata": {},
   "outputs": [],
   "source": [
    "feature_names = column_headings"
   ]
  },
  {
   "cell_type": "code",
   "execution_count": null,
   "id": "2a417d5b",
   "metadata": {},
   "outputs": [],
   "source": [
    "#model = xgboost.XGBRegressor().fit(X, y)\n",
    "\n",
    "model = clf.fit(X, y)\n",
    "explainer= shap.TreeExplainer(model, feature_names = feature_names)"
   ]
  },
  {
   "cell_type": "code",
   "execution_count": null,
   "id": "adb2428c",
   "metadata": {},
   "outputs": [],
   "source": [
    "shap_values = explainer.shap_values(X)"
   ]
  },
  {
   "cell_type": "code",
   "execution_count": null,
   "id": "a9fafd51",
   "metadata": {},
   "outputs": [],
   "source": [
    "class_names= []\n",
    "for i in set(list(y)):\n",
    "    class_name.append(f\"label_{i + 1}\")"
   ]
  },
  {
   "cell_type": "code",
   "execution_count": null,
   "id": "24e0195a",
   "metadata": {},
   "outputs": [],
   "source": [
    "shap.summary_plot(shap_values, \n",
    "                  X,\n",
    "                  plot_type='bar',\n",
    "                  feature_names=feature_names,\n",
    "                  class_names  = class_names,\n",
    "                  max_display = 12,\n",
    "                  plot_size = float (0.5))"
   ]
  },
  {
   "cell_type": "code",
   "execution_count": null,
   "id": "c00e285a",
   "metadata": {},
   "outputs": [],
   "source": [
    "model = xgboost.XGBRegressor().fit(X, y)\n",
    "explainer = shap.Explainer(model, feature_names = feature_names)\n",
    "shap_values = explainer(X)"
   ]
  },
  {
   "cell_type": "code",
   "execution_count": null,
   "id": "eb23e595",
   "metadata": {},
   "outputs": [],
   "source": [
    "shap.plots.waterfall(shap_values[0],  max_display = 12)"
   ]
  },
  {
   "cell_type": "code",
   "execution_count": null,
   "id": "b350f9e5",
   "metadata": {},
   "outputs": [],
   "source": [
    "model = xgboost.XGBRegressor().fit(X, y)\n",
    "\n",
    "explainer= shap.TreeExplainer(model, feature_names = feature_names)\n",
    "shap_values = explainer.shap_values(X)"
   ]
  },
  {
   "cell_type": "code",
   "execution_count": null,
   "id": "ad57d929",
   "metadata": {},
   "outputs": [],
   "source": [
    "shap.summary_plot(shap_values, \n",
    "                  X,\n",
    "                  plot_type='bar',\n",
    "                  feature_names=feature_names,\n",
    "                  class_names  = class_names,\n",
    "                  max_display = 12,\n",
    "                  plot_size = float (0.5))"
   ]
  }
 ],
 "metadata": {
  "kernelspec": {
   "display_name": "Python 3 (ipykernel)",
   "language": "python",
   "name": "python3"
  },
  "language_info": {
   "codemirror_mode": {
    "name": "ipython",
    "version": 3
   },
   "file_extension": ".py",
   "mimetype": "text/x-python",
   "name": "python",
   "nbconvert_exporter": "python",
   "pygments_lexer": "ipython3",
   "version": "3.10.9"
  }
 },
 "nbformat": 4,
 "nbformat_minor": 5
}
